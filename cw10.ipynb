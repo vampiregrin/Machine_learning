{
 "cells": [
  {
   "cell_type": "markdown",
   "id": "25aa040f",
   "metadata": {},
   "source": [
    "Zadanie1: Oblicz P(B=T, T=A, A=T, J=T, M=F)"
   ]
  },
  {
   "cell_type": "markdown",
   "id": "fc3f1e38",
   "metadata": {},
   "source": [
    "P(B=T)= 0.001\n",
    "P(T=A)= 0.002\n",
    "P(A=T)= P(A=T|B,E=T,T) = 0.95\n",
    "P(J=T)= P(J=T|A=T) = 0.9\n",
    "P(M=F)= 0.3\n"
   ]
  },
  {
   "cell_type": "code",
   "execution_count": 6,
   "id": "7e77458b",
   "metadata": {},
   "outputs": [
    {
     "name": "stdout",
     "output_type": "stream",
     "text": [
      "5.13e-07\n"
     ]
    }
   ],
   "source": [
    "wynik = 0.001 * 0.002 * 0.95 * 0.9 * 0.3\n",
    "print(wynik)"
   ]
  },
  {
   "cell_type": "markdown",
   "id": "dbb7f930",
   "metadata": {},
   "source": [
    "Zadanie2: (oszędność parametrów):\n",
    "Ile potrzeba parametrów aby opisać rozkład łączny 5 zmiennych binarnych?\n",
    "Ile parametrów ma powyższa sieć?"
   ]
  },
  {
   "cell_type": "markdown",
   "id": "980beb60",
   "metadata": {},
   "source": [
    "Ze względu na to, że są to zmienne binarne, w przypadku 5 zmiennych parametrów jest 10 (bo każda zmienna ma po 2), do opisania rozkładu wystarczy 5 parametrów - jedna wartość niesie informację również o tej drugiej wartości, bo są one swoimi przeciwieństwami - np. 0.1 i 0.9 \n",
    "Powyższa sieć ma sześć parametrów - B, A, J, M, T, E? ale tylko dwa z nich są niezależne - B i E, w związku z czym za ich pomocą można opisać całą resztę"
   ]
  },
  {
   "cell_type": "markdown",
   "id": "20d151ca",
   "metadata": {},
   "source": [
    "Zadanie3: Wykonaj analogiczne zadanie dla 10 zmiennych binarnych i następującej topologii sieci: ...\n",
    "Ile potrzeba parametrów aby opisać rozkład łączny 10 zmiennych binarnych? Ile parametrów ma powyższa sieć?"
   ]
  },
  {
   "cell_type": "markdown",
   "id": "15b5f5c7",
   "metadata": {},
   "source": [
    "Liczba parametrów = 10x2 -> 20\n",
    "Ze względu na budowę sieci i to, że wszystkie parametry są zależne od jednego, który jest na samej górze, możemy zredykować liczbę zmiennnych do jednej - właśnie tej, która stanowi wierzchołek sieci"
   ]
  },
  {
   "cell_type": "markdown",
   "id": "4dfe4e62",
   "metadata": {},
   "source": [
    "Zadanie4: Wyjaśnij wartość 0.75 w powyższej tabeli (poprzez bezpośrednie wyliczenie i objaśnienie)."
   ]
  },
  {
   "cell_type": "markdown",
   "id": "1b34ccbc",
   "metadata": {},
   "source": [
    "ilość dużych bananów = 8, ilość dużych smacznych bananów = 6, wynik dzielenia 6/8 daje 0.75"
   ]
  },
  {
   "cell_type": "markdown",
   "id": "59e6d21d",
   "metadata": {},
   "source": [
    "Zadanie5: Wygeneruj dane zawierające 10 tys wierszy i 3 kolumny. Pierwsze dwie kolumny (A, B) niech zawierają losowe liczby całkowite z zakresu <-2, 2> Trzecia kolumna (C) to kombinacja liniowa dwóch pierwszych kolumn C = 2A - 3B. \n",
    "Zbuduj dwie topologie sieci, tzn. (A-> C, B- > C) oraz (A-> B, B- > C)  . Oceń która z sieci wydaje sie lepiej odzwierciedlać strukturę danych. Wyjaśnij dlaczego."
   ]
  },
  {
   "cell_type": "code",
   "execution_count": 35,
   "id": "7d435d78",
   "metadata": {},
   "outputs": [],
   "source": [
    "from random import randint\n",
    "import pandas as pd\n",
    "from pgmpy.models import BayesianNetwork\n",
    "from pgmpy.estimators import BayesianEstimator\n",
    "from pgmpy.estimators import BDeuScore, K2Score, BicScore"
   ]
  },
  {
   "cell_type": "code",
   "execution_count": 36,
   "id": "9d3aa158",
   "metadata": {},
   "outputs": [],
   "source": [
    "A = [randint(-2, 2) for i in range(0, 10000)]\n",
    "B = [randint(-2, 2) for i in range(0, 10000)]\n",
    "C =[]\n",
    "for i in range (10000):\n",
    "    C.append(2*A[i] - 3*B[i])"
   ]
  },
  {
   "cell_type": "code",
   "execution_count": 37,
   "id": "36c93c53",
   "metadata": {},
   "outputs": [
    {
     "name": "stdout",
     "output_type": "stream",
     "text": [
      "      A  B  C\n",
      "0    -1  2 -8\n",
      "1     2 -1  7\n",
      "2     1 -2  8\n",
      "3    -1  2 -8\n",
      "4     1  2 -4\n",
      "...  .. .. ..\n",
      "9995 -1  0 -2\n",
      "9996 -2  1 -7\n",
      "9997 -2 -2  2\n",
      "9998  1  0  2\n",
      "9999  0  0  0\n",
      "\n",
      "[10000 rows x 3 columns]\n"
     ]
    }
   ],
   "source": [
    "data = {'A':A,'B':B,'C':C}\n",
    "dataframe = pd.DataFrame(data)\n",
    "print(dataframe)"
   ]
  },
  {
   "cell_type": "code",
   "execution_count": 38,
   "id": "5df6c962",
   "metadata": {},
   "outputs": [],
   "source": [
    "#net1: (A-> C, B- > C) \n",
    "net1 = BayesianNetwork([('A', 'C'), ('B', 'C')])\n",
    "net1.fit(dataframe, estimator=BayesianEstimator, prior_type=\"BDeu\")"
   ]
  },
  {
   "cell_type": "code",
   "execution_count": 39,
   "id": "e9aa57cd",
   "metadata": {},
   "outputs": [],
   "source": [
    "#net2: (A-> B, B- > C)\n",
    "net2 = BayesianNetwork([('A', 'B'), ('B', 'C')])\n",
    "net2.fit(dataframe, estimator=BayesianEstimator, prior_type=\"BDeu\")"
   ]
  },
  {
   "cell_type": "code",
   "execution_count": 40,
   "id": "42e8516b",
   "metadata": {},
   "outputs": [],
   "source": [
    "#Ocena modelu\n",
    "bdeu = BDeuScore(dataframe)\n",
    "k2 = K2Score(dataframe)\n",
    "bic = BicScore(dataframe)"
   ]
  },
  {
   "cell_type": "code",
   "execution_count": 41,
   "id": "91f3bac4",
   "metadata": {},
   "outputs": [
    {
     "name": "stdout",
     "output_type": "stream",
     "text": [
      "bdeu score: -32343.19600629246\n",
      "k2 score: -34009.33915345037\n",
      "bic score: -34291.28350479371\n"
     ]
    }
   ],
   "source": [
    "print(\"bdeu score:\", bdeu.score(net1))\n",
    "print(\"k2 score:\", k2.score(net1))\n",
    "print(\"bic score:\", bic.score(net1))"
   ]
  },
  {
   "cell_type": "code",
   "execution_count": 42,
   "id": "c26aacbe",
   "metadata": {},
   "outputs": [
    {
     "name": "stdout",
     "output_type": "stream",
     "text": [
      "bdeu score: -48492.14473534367\n",
      "k2 score: -48757.61394827544\n",
      "bic score: -48776.880143588976\n"
     ]
    }
   ],
   "source": [
    "print(\"bdeu score:\", bdeu.score(net2))\n",
    "print(\"k2 score:\", k2.score(net2))\n",
    "print(\"bic score:\", bic.score(net2))"
   ]
  },
  {
   "cell_type": "markdown",
   "id": "d2eb7a3a",
   "metadata": {},
   "source": [
    "Im większe wartości współczynników tym lepszy model -> sieć net1 wypadła lepiej, lepiej odzwierciedla strukturę danych\n",
    "Jest tak dlatego, że w tej sieci zbiór danych C jest zależny od zbioru A i zbioru B, tak jak jest w rzeczywistości - C został wygenerowany na podstawie A i B"
   ]
  },
  {
   "cell_type": "markdown",
   "id": "4ec66555",
   "metadata": {},
   "source": [
    "Zadanie6: Liczba możliwych topologii sieci dla n cech wyraża się następującyc wzorem rekurencyjnym:"
   ]
  },
  {
   "cell_type": "code",
   "execution_count": 2,
   "id": "c955e945",
   "metadata": {},
   "outputs": [
    {
     "data": {
      "image/png": "[encoded data removed]",
      "text/plain": [
       "<IPython.core.display.Image object>"
      ]
     },
     "execution_count": 2,
     "metadata": {},
     "output_type": "execute_result"
    }
   ],
   "source": [
    "from IPython.display import Image\n",
    "Image(filename='bay.png') "
   ]
  },
  {
   "cell_type": "markdown",
   "id": "02dee3f3",
   "metadata": {},
   "source": [
    "Zaimplementuj ten wzór oraz sprawdź go dla 3 cech (przyklad wyżej). Ile możliwych sieci występuje dla 10 cech?\n"
   ]
  },
  {
   "cell_type": "code",
   "execution_count": 3,
   "id": "b72cd110",
   "metadata": {},
   "outputs": [],
   "source": [
    "from scipy.special import binom"
   ]
  },
  {
   "cell_type": "code",
   "execution_count": 4,
   "id": "e62a3fc0",
   "metadata": {},
   "outputs": [],
   "source": [
    "def func(n):\n",
    "    if n==0:\n",
    "        return 1\n",
    "    else:\n",
    "        sum= 0\n",
    "        for k in range(1, n+1):\n",
    "            sum += (-1)**(k+1) * binom(n,k) * 2 ** (k* (n-k)) * func(n-k)\n",
    "        return sum\n",
    "    "
   ]
  },
  {
   "cell_type": "code",
   "execution_count": 5,
   "id": "0995d13a",
   "metadata": {},
   "outputs": [
    {
     "name": "stdout",
     "output_type": "stream",
     "text": [
      "Dla 3 cech: 25.0\n",
      "Dla 10 cech: 4.175098976430598e+18\n"
     ]
    }
   ],
   "source": [
    "print(\"Dla 3 cech:\", func(3))\n",
    "print(\"Dla 10 cech:\", func(10))\n"
   ]
  }
 ],
 "metadata": {
  "kernelspec": {
   "display_name": "Python 3 (ipykernel)",
   "language": "python",
   "name": "python3"
  },
  "language_info": {
   "codemirror_mode": {
    "name": "ipython",
    "version": 3
   },
   "file_extension": ".py",
   "mimetype": "text/x-python",
   "name": "python",
   "nbconvert_exporter": "python",
   "pygments_lexer": "ipython3",
   "version": "3.9.12"
  }
 },
 "nbformat": 4,
 "nbformat_minor": 5
}
