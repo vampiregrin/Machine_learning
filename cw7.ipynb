{
 "cells": [
  {
   "cell_type": "markdown",
   "id": "42d2aa38",
   "metadata": {},
   "source": [
    "Zadanie1: Zastanów się dlaczego funkcja kosztu MSE może nie być najlepszym pomysłem dla tego problemu?"
   ]
  },
  {
   "cell_type": "markdown",
   "id": "a6ddbbc4",
   "metadata": {},
   "source": [
    "MSE mierzy średnią kwadratową różnicy między wartościami przewidywanymi a wartościami rzeczywistymi, więc w zasadzie oblicza się kwadraty różnic dla każdego piksela z osobna - to sprawdz się tylko wtedy, gdy chcemy wygenerować obraz o najlepszej zgodności kolorów pikseli z obrazem podstawowym (wejściowym). Czasem, tak jak w powyższej analizie, trzeba się skupić na czymś więcej, np. na ukształtowaniu, strukturze obrazu (nie bardzo wiem jak to określić, chodzi po prostu o całościowy wygląd obrazu który otrzymujemy)\n",
    "\n",
    "Alternatywnym sposobem może być PSNR (Peak Signal to Noise Ratio). W tej metodzie musimy przekształcić wszystkie wartości reprezentacji pikseli do postaci bitowej. Ale tak naprawdę PSN również koncentruje się na porównaniu piksel po pikselu, więc jeśli chcemy tego uniknąć, to możemy wykorzystać metodę podobieństwa strukturalnego (SSIM). \n",
    "\n",
    "SSIM koreluje z jakością i percepcją układu wzrokowego człowieka (model barw HVS). Zamiast korzystać z tradycyjnych metod sumowania błędów, SSIM modeluje zniekształcenie obrazu jako kombinację trzech czynników, którymi są utrata korelacji, zniekształcenie luminancji i zniekształcenie kontrastu. \n",
    "(źródło: https://medium.com/@datamonsters/a-quick-overview-of-methods-to-measure-the-similarity-between-images-f907166694ee)"
   ]
  },
  {
   "cell_type": "markdown",
   "id": "fa7a9710",
   "metadata": {},
   "source": [
    "Zadanie2: Jaka jest różnica między funkcją ReLU i LeakyReLU. Jakie to ma konsekwencje?"
   ]
  },
  {
   "cell_type": "markdown",
   "id": "5a3edcff",
   "metadata": {},
   "source": [
    "Rectified Linear Units lub ReLUs to rodzaj funkcji aktywacji, które są liniowe w wymiarze dodatnim, ale zerowe w wymiarze ujemnym. Leaky ReLU to modyfikacja ReLU, ma taką samą formę, ale powoduje wyciek niektórych wartości dodatnich do 0, jeśli są one wystarczająco bliskie zeru. Te wartości są brane pod uwagę po to, aby uniknąć dzielenia przez zero, gdy wartość wejściowa jest ujemna, co może się zdarzyć w przypadku standardowego ReLU podczas uczenia sieci neuronowych ze spadkiem gradientu. Funkcja leaky Relu cechuje się przez to małym nachyleniem dla wartości ujemnych (zamiast całkowicie płaskiego).Funkcja Leaky ReLU sprawdza się lepiej od oryginalnej wersji tej funkcji zwłaszcza przy zmianie liczby epok treningowych."
   ]
  },
  {
   "cell_type": "markdown",
   "id": "5ec894f8",
   "metadata": {},
   "source": [
    "Zadanie3: Jak zachowuje się funkcja kosztu w kolejnych epokach? Z czego to może wynikać? Czy to ułatwia czy utrudnia dostosowyanie hiperparametrów?"
   ]
  },
  {
   "cell_type": "markdown",
   "id": "02335937",
   "metadata": {},
   "source": [
    "Funkcja kosztu dyskryminatora - funkcja jest niemonotoniczna, naprzemiennie rośnie i maleje, najpierw te zmiany są duże, z każdą kolejną epoką coraz mniejsze, ale cały czas zachowuje się tak samo. Funkcja kosztu generatora zachowuje się jeszcze mniej przewidywalnie, a jej wartości są ogólnie dużo wyższe niż f.k.dyskryminatora. Wydaje mi się, że dzieje się tak dlatego że funkcje te działają do siebie oportunistycznie. Ciężko jednak doszukać się zależności, by jedna funkcja rosła gdy druga maleje i odwrotnie. Z pewnością utrudnia to dostostowywanie hiperparametrów, bo funkcje są mało przewidywalne (a zwłaszcza f.k.generatora)"
   ]
  },
  {
   "cell_type": "markdown",
   "id": "1147eee9",
   "metadata": {},
   "source": [
    "Zadanie4: Generator może realizować swój cel ucząć się bardzo dobrze generować tylko pewien podzbiór danych (np jedną cyfrę). Zjawisko to nosi nazwę mode collapse. Poszukaj jak można rozwiązać ten problem."
   ]
  },
  {
   "cell_type": "markdown",
   "id": "be26e523",
   "metadata": {},
   "source": [
    "-Wasserstein loss: metoda ta zmniejsza mode collapse, umożliwiając trenowanie dyskryminatora do optymalności bez martwienia się o zanikające gradienty. Jeśli dyskryminator nie utknie w lokalnych minimach, uczy się odrzucać wyjścia, na których stabilizuje się generator - generator musi wtedy próbować czegoś nowego\n",
    "\n",
    "-Unrolled GAN: Rozwinięte sieci GAN- wykorzystują funkcję utraty generatora, która obejmuje nie tylko klasyfikacje bieżącego dyskryminatora, ale także dane wyjściowe przyszłych wersji dyskryminatora -> generator nie może nadmiernie optymalizować dla pojedynczego dyskryminatora\n",
    "\n",
    "-Packing: Modyfikowanie dyskryminatora w celu podejmowania decyzji na podstawie wielu próbek tej samej klasy — rzeczywistych lub sztucznych. Gdy dyskryminator spojrzy na zestaw próbek na raz, ma większe szanse na zidentyfikowanie niezróżnicowanego podzbioru jako sztucznego"
   ]
  },
  {
   "cell_type": "markdown",
   "id": "0286ff87",
   "metadata": {},
   "source": [
    "Zadanie5: CIFAR10 to dataset zawierający 60 tysięcy kolorowych obrazków rozmiaru 32 x 32 pikseli należących do 10 różnych klas.\n",
    "Zadaniem jest zaimplementowanie \"od zera\" sieci konwolucyjnej do klasyfikacji wieloklasowej na zbiorze CIFAR10. Należy zaimplementować zarówno model jak i pętle uczenia oraz ewaluacji. Twój kod powinien raportować loss w trakcie trenowania, testowania oraz accuracy na zbiorze testowym (opcjonalnie również na treningowym). Na koniec accuracy powinno osiągnąć wynik powyżej 75% na zbiorze testowym. Można korzystać z dowolnych mechanizmów dostępnych w PyTorchu."
   ]
  },
  {
   "cell_type": "code",
   "execution_count": null,
   "id": "bc44fab0",
   "metadata": {},
   "outputs": [],
   "source": []
  }
 ],
 "metadata": {
  "kernelspec": {
   "display_name": "Python 3 (ipykernel)",
   "language": "python",
   "name": "python3"
  },
  "language_info": {
   "codemirror_mode": {
    "name": "ipython",
    "version": 3
   },
   "file_extension": ".py",
   "mimetype": "text/x-python",
   "name": "python",
   "nbconvert_exporter": "python",
   "pygments_lexer": "ipython3",
   "version": "3.9.12"
  }
 },
 "nbformat": 4,
 "nbformat_minor": 5
}
