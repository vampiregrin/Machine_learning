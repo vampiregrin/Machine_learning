{
 "cells": [
  {
   "cell_type": "markdown",
   "id": "fdd74b7d",
   "metadata": {},
   "source": [
    "Zadanie1: Zaimplementuj algorytm grupowania górskiego Zastosuj do poniższych danych.\n"
   ]
  },
  {
   "cell_type": "code",
   "execution_count": 46,
   "id": "9265d3ab",
   "metadata": {},
   "outputs": [],
   "source": [
    "import math\n",
    "import numpy as np"
   ]
  },
  {
   "cell_type": "code",
   "execution_count": 53,
   "id": "458c57bc",
   "metadata": {},
   "outputs": [],
   "source": [
    "class MountainClustering:\n",
    "    \n",
    "    def __init__(self, X, sigma=1, b=1):\n",
    "        \n",
    "        self.X = X\n",
    "        self.sigma = sigma\n",
    "        self.b = b     \n",
    "\n",
    "    def mountain_function(self, X, sigma, b):\n",
    "        \n",
    "        C = self.X  #centra = wektory\n",
    "        n = len(self.X) \n",
    "        values = []\n",
    "       \n",
    "        for i in range(n):\n",
    "            sum = 0\n",
    "            for j in range(n):\n",
    "                x = math.exp (-(np.subtract(C[i], X[j])**(2*self.b)/((2*self.sigma)**2)))\n",
    "                sum = sum + x\n",
    "            values.append(sum)  \n",
    "        return values\n",
    "\n",
    "    def update_g (self, values, X, sigma, b):\n",
    "        \n",
    "        C = self.X  \n",
    "        n = len(self.X)\n",
    "        updated_values = []\n",
    "        C1 = max(values)\n",
    "        \n",
    "        \n",
    "        for i in range(n):\n",
    "            new = values[i] - C1 * math.exp(-(np.subtract(C[i], X[j])**(2*self.b)/((2*self.sigma)**2)))\n",
    "            updated_values.append(new)\n",
    "            print (new)\n",
    "        return updated_values\n"
   ]
  },
  {
   "cell_type": "markdown",
   "id": "e730e45f",
   "metadata": {},
   "source": [
    "Zadanie2: Zaimplementuj algorytm Gustafsona-Kessela. \n",
    "Zastosuj go do poniższych danych - algorytm powinien sobie poradzić z poprawną klasyfikacją."
   ]
  },
  {
   "cell_type": "code",
   "execution_count": null,
   "id": "468a2892",
   "metadata": {},
   "outputs": [],
   "source": []
  }
 ],
 "metadata": {
  "kernelspec": {
   "display_name": "Python 3 (ipykernel)",
   "language": "python",
   "name": "python3"
  },
  "language_info": {
   "codemirror_mode": {
    "name": "ipython",
    "version": 3
   },
   "file_extension": ".py",
   "mimetype": "text/x-python",
   "name": "python",
   "nbconvert_exporter": "python",
   "pygments_lexer": "ipython3",
   "version": "3.9.12"
  }
 },
 "nbformat": 4,
 "nbformat_minor": 5
}
