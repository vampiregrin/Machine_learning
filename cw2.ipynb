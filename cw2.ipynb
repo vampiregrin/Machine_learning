{
 "cells": [
  {
   "cell_type": "code",
   "execution_count": 3,
   "metadata": {},
   "outputs": [],
   "source": [
    "import numpy as np\n"
   ]
  },
  {
   "cell_type": "markdown",
   "metadata": {},
   "source": [
    "Zadanie1: Zdefiniuj klasę implementującą regresję liniową z regularyzacją L1/L2 dla dowolnej liczby zmiennych."
   ]
  },
  {
   "cell_type": "code",
   "execution_count": 4,
   "metadata": {},
   "outputs": [],
   "source": [
    "\n",
    "class LinearModel2v:\n",
    "    def __init__(self, alpha, eta, diff=0.001, w0=1, maxiter=10000):\n",
    "        self.w = 0\n",
    "        self.alpha = 0.5\n",
    "        self.eta = eta\n",
    "        self.diff = diff\n",
    "        self.w0 = w0\n",
    "        self.maxiter = maxiter\n",
    "\n",
    "    def loss_function(self, X, t):\n",
    "        N = len(X)\n",
    "        M = len(self.w)\n",
    "        C = 0\n",
    "        for i in range(N):\n",
    "            B = 0\n",
    "            squares = 0\n",
    "            for j in range(M):\n",
    "                B += X[i][j]*self.w[j]\n",
    "                squares +=  self.w[j]**2 #squares to kwadraty wszystkich w\n",
    "            C += (B+self.w0-t[i])**2 \n",
    "        LF = C/(2*N)\n",
    "        return LF + self.alpha* (squares + (self.w0**2))\n",
    "\n",
    "    #ale co z regularyzacją w tej metodzie? gdzie?\n",
    "    def update_weights(self, X, t):\n",
    "        N = len(X)\n",
    "        M = len(self.w)\n",
    "        dC = [0] * M\n",
    "\n",
    "        dC0 = 0\n",
    "        for i in range(N):\n",
    "            inner = 0\n",
    "\n",
    "            for j in range(M):\n",
    "                inner += X[i][j]*self.w[j] \n",
    "                \n",
    "                y_pred = inner+self.w0\n",
    "\n",
    "            for j in range(M):\n",
    "                dC[j] += 2*X[i][j]*(y_pred-t[i])\n",
    "                \n",
    "            dC0 += 2*(y_pred-t[i])\n",
    "\n",
    "        for i in range(M):\n",
    "            self.w[i] = (self.w[i] - self.eta*dC[i]/(2*N)) \n",
    "        self.w0 = (self.w0 - self.eta*dC0/(2*N)) \n",
    "\n",
    "\n",
    "    def train(self, X, t):\n",
    "        if(self.w == 0):\n",
    "            self.w = [1] * len(X[0])\n",
    "        l = []\n",
    "        count = 0\n",
    "        while True:\n",
    "            l.append(self.loss_function(X, t))\n",
    "            self.update_weights(X, t)\n",
    "            count += 1\n",
    "            if len(l) > 2:\n",
    "                if abs(l[-1]-l[-2])/l[-1] < self.diff or count > self.maxiter:\n",
    "                    break\n",
    "\n",
    "\n"
   ]
  },
  {
   "cell_type": "code",
   "execution_count": 5,
   "metadata": {},
   "outputs": [],
   "source": [
    "X = np.array([[1, 4], [5, 6], [2, 2], [6, 7],\n",
    "             [9, -4], [-2, -3], [-5, 1]])\n",
    "y = np.dot(X, [3, -4])+5  # y=3x1-4x2+5"
   ]
  },
  {
   "cell_type": "code",
   "execution_count": 6,
   "metadata": {},
   "outputs": [],
   "source": [
    "model = LinearModel2v(2.0, 0.001)\n",
    "model.train(X, y)"
   ]
  },
  {
   "cell_type": "code",
   "execution_count": 7,
   "metadata": {},
   "outputs": [
    {
     "data": {
      "text/plain": [
       "([3.0496512637003144, -3.3486966251893735],\n",
       " 1.2795489794773396,\n",
       " 17.28236387728459)"
      ]
     },
     "execution_count": 7,
     "metadata": {},
     "output_type": "execute_result"
    }
   ],
   "source": [
    "model.w, model.w0, model.loss_function(X, y)"
   ]
  },
  {
   "cell_type": "markdown",
   "metadata": {},
   "source": [
    "Zadanie2: Wybierz dowolny zbiór danych lub wygeneruj syntetyczne dane. Zastosuj model regresji liniowej z regularyzacją L1. Na podstawie zbioru walidacyjnego wybierz optymalne parametry eta oraz alfa (rozważ chociaż 15-20 różnych kombinacji)."
   ]
  },
  {
   "cell_type": "code",
   "execution_count": 8,
   "metadata": {},
   "outputs": [],
   "source": [
    "\n",
    "X = np.random.uniform(-10.0, 10.0, (1000, 2))\n",
    "\n",
    "y = np.dot(X, [3, -4])+5  # y=3x1-4x2+5\n",
    "\n",
    "x_valid = X[:200]\n",
    "x_train = X[200:]\n",
    "\n",
    "y_valid = y[:200]\n",
    "y_train = y[200:]\n"
   ]
  },
  {
   "cell_type": "markdown",
   "metadata": {},
   "source": [
    "Jak tu powinno wyglądać trenowanie?  Czy ja to dobrze robię?\n",
    "\n",
    "Dlaczego przy podstawieniu alpha = 1 są takie błędy? Jak puszczałam kod z alpha domyślnym 1 wszystko dobrze szło\n",
    "\n",
    "Czym mam się sugerować w wynikach? Tylko wielkością funkcji kosztu?\n",
    "\n",
    "alpha: 0.1, 0.5, 1\n",
    "eta: 0.001, 0.01, 0.1\n",
    "\n",
    "*Jak zrobić sobie to tak żeby byla lista tylko alpha i eta? Tak by było wygodniej"
   ]
  },
  {
   "cell_type": "code",
   "execution_count": 9,
   "metadata": {},
   "outputs": [
    {
     "data": {
      "text/plain": [
       "([2.9600310243942545, -3.800286834899518],\n",
       " 1.2795489794773396,\n",
       " 24.35272640548584)"
      ]
     },
     "execution_count": 9,
     "metadata": {},
     "output_type": "execute_result"
    }
   ],
   "source": [
    "model_train = LinearModel2v(0.1, 0.001)\n",
    "model_train.train(x_train, y_train)\n",
    "model_train.w, model.w0, model.loss_function(x_train, y_train)"
   ]
  },
  {
   "cell_type": "code",
   "execution_count": 10,
   "metadata": {},
   "outputs": [
    {
     "data": {
      "text/plain": [
       "([3.0031246773054137, -3.9811779603907027],\n",
       " 1.2795489794773396,\n",
       " 24.35272640548584)"
      ]
     },
     "execution_count": 10,
     "metadata": {},
     "output_type": "execute_result"
    }
   ],
   "source": [
    "model_train = LinearModel2v(0.5, 0.01)\n",
    "model_train.train(x_train, y_train)\n",
    "model_train.w, model.w0, model.loss_function(x_train, y_train)"
   ]
  },
  {
   "cell_type": "code",
   "execution_count": 11,
   "metadata": {},
   "outputs": [
    {
     "name": "stderr",
     "output_type": "stream",
     "text": [
      "c:\\Users\\gabri\\AppData\\PyMOL2\\lib\\site-packages\\ipykernel_launcher.py:20: RuntimeWarning: overflow encountered in double_scalars\n",
      "c:\\Users\\gabri\\AppData\\PyMOL2\\lib\\site-packages\\ipykernel_launcher.py:59: RuntimeWarning: invalid value encountered in double_scalars\n",
      "c:\\Users\\gabri\\AppData\\PyMOL2\\lib\\site-packages\\ipykernel_launcher.py:19: RuntimeWarning: overflow encountered in double_scalars\n",
      "c:\\Users\\gabri\\AppData\\PyMOL2\\lib\\site-packages\\ipykernel_launcher.py:22: RuntimeWarning: overflow encountered in double_scalars\n",
      "c:\\Users\\gabri\\AppData\\PyMOL2\\lib\\site-packages\\ipykernel_launcher.py:40: RuntimeWarning: overflow encountered in double_scalars\n",
      "c:\\Users\\gabri\\AppData\\PyMOL2\\lib\\site-packages\\ipykernel_launcher.py:40: RuntimeWarning: invalid value encountered in double_scalars\n",
      "c:\\Users\\gabri\\AppData\\PyMOL2\\lib\\site-packages\\ipykernel_launcher.py:42: RuntimeWarning: invalid value encountered in double_scalars\n",
      "c:\\Users\\gabri\\AppData\\PyMOL2\\lib\\site-packages\\ipykernel_launcher.py:45: RuntimeWarning: invalid value encountered in double_scalars\n"
     ]
    },
    {
     "ename": "KeyboardInterrupt",
     "evalue": "",
     "output_type": "error",
     "traceback": [
      "\u001b[1;31m---------------------------------------------------------------------------\u001b[0m",
      "\u001b[1;31mKeyboardInterrupt\u001b[0m                         Traceback (most recent call last)",
      "\u001b[1;32m~\\AppData\\Local\\Temp\\ipykernel_13160\\536161867.py\u001b[0m in \u001b[0;36m<module>\u001b[1;34m\u001b[0m\n\u001b[0;32m      1\u001b[0m \u001b[0mmodel_train\u001b[0m \u001b[1;33m=\u001b[0m \u001b[0mLinearModel2v\u001b[0m\u001b[1;33m(\u001b[0m\u001b[1;36m1\u001b[0m\u001b[1;33m,\u001b[0m \u001b[1;36m0.1\u001b[0m\u001b[1;33m)\u001b[0m\u001b[1;33m\u001b[0m\u001b[1;33m\u001b[0m\u001b[0m\n\u001b[1;32m----> 2\u001b[1;33m \u001b[0mmodel_train\u001b[0m\u001b[1;33m.\u001b[0m\u001b[0mtrain\u001b[0m\u001b[1;33m(\u001b[0m\u001b[0mx_train\u001b[0m\u001b[1;33m,\u001b[0m \u001b[0my_train\u001b[0m\u001b[1;33m)\u001b[0m\u001b[1;33m\u001b[0m\u001b[1;33m\u001b[0m\u001b[0m\n\u001b[0m\u001b[0;32m      3\u001b[0m \u001b[0mmodel_train\u001b[0m\u001b[1;33m.\u001b[0m\u001b[0mw\u001b[0m\u001b[1;33m,\u001b[0m \u001b[0mmodel\u001b[0m\u001b[1;33m.\u001b[0m\u001b[0mw0\u001b[0m\u001b[1;33m,\u001b[0m \u001b[0mmodel\u001b[0m\u001b[1;33m.\u001b[0m\u001b[0mloss_function\u001b[0m\u001b[1;33m(\u001b[0m\u001b[0mx_train\u001b[0m\u001b[1;33m,\u001b[0m \u001b[0my_train\u001b[0m\u001b[1;33m)\u001b[0m\u001b[1;33m\u001b[0m\u001b[1;33m\u001b[0m\u001b[0m\n",
      "\u001b[1;32m~\\AppData\\Local\\Temp\\ipykernel_13160\\3492086313.py\u001b[0m in \u001b[0;36mtrain\u001b[1;34m(self, X, t)\u001b[0m\n\u001b[0;32m     54\u001b[0m         \u001b[1;32mwhile\u001b[0m \u001b[1;32mTrue\u001b[0m\u001b[1;33m:\u001b[0m\u001b[1;33m\u001b[0m\u001b[1;33m\u001b[0m\u001b[0m\n\u001b[0;32m     55\u001b[0m             \u001b[0ml\u001b[0m\u001b[1;33m.\u001b[0m\u001b[0mappend\u001b[0m\u001b[1;33m(\u001b[0m\u001b[0mself\u001b[0m\u001b[1;33m.\u001b[0m\u001b[0mloss_function\u001b[0m\u001b[1;33m(\u001b[0m\u001b[0mX\u001b[0m\u001b[1;33m,\u001b[0m \u001b[0mt\u001b[0m\u001b[1;33m)\u001b[0m\u001b[1;33m)\u001b[0m\u001b[1;33m\u001b[0m\u001b[1;33m\u001b[0m\u001b[0m\n\u001b[1;32m---> 56\u001b[1;33m             \u001b[0mself\u001b[0m\u001b[1;33m.\u001b[0m\u001b[0mupdate_weights\u001b[0m\u001b[1;33m(\u001b[0m\u001b[0mX\u001b[0m\u001b[1;33m,\u001b[0m \u001b[0mt\u001b[0m\u001b[1;33m)\u001b[0m\u001b[1;33m\u001b[0m\u001b[1;33m\u001b[0m\u001b[0m\n\u001b[0m\u001b[0;32m     57\u001b[0m             \u001b[0mcount\u001b[0m \u001b[1;33m+=\u001b[0m \u001b[1;36m1\u001b[0m\u001b[1;33m\u001b[0m\u001b[1;33m\u001b[0m\u001b[0m\n\u001b[0;32m     58\u001b[0m             \u001b[1;32mif\u001b[0m \u001b[0mlen\u001b[0m\u001b[1;33m(\u001b[0m\u001b[0ml\u001b[0m\u001b[1;33m)\u001b[0m \u001b[1;33m>\u001b[0m \u001b[1;36m2\u001b[0m\u001b[1;33m:\u001b[0m\u001b[1;33m\u001b[0m\u001b[1;33m\u001b[0m\u001b[0m\n",
      "\u001b[1;32m~\\AppData\\Local\\Temp\\ipykernel_13160\\3492086313.py\u001b[0m in \u001b[0;36mupdate_weights\u001b[1;34m(self, X, t)\u001b[0m\n\u001b[0;32m     33\u001b[0m \u001b[1;33m\u001b[0m\u001b[0m\n\u001b[0;32m     34\u001b[0m             \u001b[1;32mfor\u001b[0m \u001b[0mj\u001b[0m \u001b[1;32min\u001b[0m \u001b[0mrange\u001b[0m\u001b[1;33m(\u001b[0m\u001b[0mM\u001b[0m\u001b[1;33m)\u001b[0m\u001b[1;33m:\u001b[0m\u001b[1;33m\u001b[0m\u001b[1;33m\u001b[0m\u001b[0m\n\u001b[1;32m---> 35\u001b[1;33m                 \u001b[0minner\u001b[0m \u001b[1;33m+=\u001b[0m \u001b[0mX\u001b[0m\u001b[1;33m[\u001b[0m\u001b[0mi\u001b[0m\u001b[1;33m]\u001b[0m\u001b[1;33m[\u001b[0m\u001b[0mj\u001b[0m\u001b[1;33m]\u001b[0m\u001b[1;33m*\u001b[0m\u001b[0mself\u001b[0m\u001b[1;33m.\u001b[0m\u001b[0mw\u001b[0m\u001b[1;33m[\u001b[0m\u001b[0mj\u001b[0m\u001b[1;33m]\u001b[0m\u001b[1;33m\u001b[0m\u001b[1;33m\u001b[0m\u001b[0m\n\u001b[0m\u001b[0;32m     36\u001b[0m \u001b[1;33m\u001b[0m\u001b[0m\n\u001b[0;32m     37\u001b[0m                 \u001b[0my_pred\u001b[0m \u001b[1;33m=\u001b[0m \u001b[0minner\u001b[0m\u001b[1;33m+\u001b[0m\u001b[0mself\u001b[0m\u001b[1;33m.\u001b[0m\u001b[0mw0\u001b[0m\u001b[1;33m\u001b[0m\u001b[1;33m\u001b[0m\u001b[0m\n",
      "\u001b[1;31mKeyboardInterrupt\u001b[0m: "
     ]
    }
   ],
   "source": [
    "model_train = LinearModel2v(1, 0.1) \n",
    "model_train.train(x_train, y_train)\n",
    "model_train.w, model.w0, model.loss_function(x_train, y_train)"
   ]
  },
  {
   "cell_type": "code",
   "execution_count": null,
   "metadata": {},
   "outputs": [
    {
     "data": {
      "text/plain": [
       "([2.998629108954327, -3.970709468231444],\n",
       " 1.0789545769334363,\n",
       " 4660.549945793372)"
      ]
     },
     "execution_count": 74,
     "metadata": {},
     "output_type": "execute_result"
    }
   ],
   "source": [
    "model_train = LinearModel2v(0.1, 0.001)\n",
    "model_train.train(x_train, y_train)\n",
    "model_train.w, model.w0, model.loss_function(x_train, y_train)"
   ]
  },
  {
   "cell_type": "code",
   "execution_count": null,
   "metadata": {},
   "outputs": [
    {
     "data": {
      "text/plain": [
       "([3.024027945868007, -4.0288749430671755],\n",
       " 1.0789545769334363,\n",
       " 4660.549945793372)"
      ]
     },
     "execution_count": 75,
     "metadata": {},
     "output_type": "execute_result"
    }
   ],
   "source": [
    "model_train = LinearModel2v(0.5, 0.01)\n",
    "model_train.train(x_train, y_train)\n",
    "model_train.w, model.w0, model.loss_function(x_train, y_train)"
   ]
  },
  {
   "cell_type": "code",
   "execution_count": null,
   "metadata": {},
   "outputs": [
    {
     "name": "stderr",
     "output_type": "stream",
     "text": [
      "C:\\Users\\gabri\\AppData\\Local\\Temp/ipykernel_2456/1185386876.py:20: RuntimeWarning: overflow encountered in double_scalars\n",
      "  C += (B+self.w0-t[i])**2\n",
      "C:\\Users\\gabri\\AppData\\Local\\Temp/ipykernel_2456/1185386876.py:56: RuntimeWarning: invalid value encountered in double_scalars\n",
      "  if abs(l[-1]-l[-2])/l[-1] < self.diff or count > self.maxiter:\n",
      "C:\\Users\\gabri\\AppData\\Local\\Temp/ipykernel_2456/1185386876.py:19: RuntimeWarning: overflow encountered in double_scalars\n",
      "  squares +=  self.w[j]**2 #squares to kwadraty wszystkich w\n",
      "C:\\Users\\gabri\\AppData\\Local\\Temp/ipykernel_2456/1185386876.py:22: RuntimeWarning: overflow encountered in double_scalars\n",
      "  return LF + self.alpha* (squares + (self.w0**2))\n",
      "C:\\Users\\gabri\\AppData\\Local\\Temp/ipykernel_2456/1185386876.py:38: RuntimeWarning: overflow encountered in double_scalars\n",
      "  dC[j] += 2*X[i][j]*(y_pred-t[i])\n",
      "C:\\Users\\gabri\\AppData\\Local\\Temp/ipykernel_2456/1185386876.py:38: RuntimeWarning: invalid value encountered in double_scalars\n",
      "  dC[j] += 2*X[i][j]*(y_pred-t[i])\n",
      "C:\\Users\\gabri\\AppData\\Local\\Temp/ipykernel_2456/1185386876.py:39: RuntimeWarning: invalid value encountered in double_scalars\n",
      "  dC0 += 2*(y_pred-t[i])\n",
      "C:\\Users\\gabri\\AppData\\Local\\Temp/ipykernel_2456/1185386876.py:42: RuntimeWarning: invalid value encountered in double_scalars\n",
      "  self.w[i] = self.w[i] - self.eta*dC[i]/(2*N)\n"
     ]
    },
    {
     "data": {
      "text/plain": [
       "([nan, nan], 1.0789545769334363, 4660.549945793372)"
      ]
     },
     "execution_count": 82,
     "metadata": {},
     "output_type": "execute_result"
    }
   ],
   "source": [
    "model_train = LinearModel2v(1, 0.1)\n",
    "model_train.train(x_train, y_train)\n",
    "model_train.w, model.w0, model.loss_function(x_train, y_train)"
   ]
  },
  {
   "cell_type": "code",
   "execution_count": null,
   "metadata": {},
   "outputs": [
    {
     "data": {
      "text/plain": [
       "([2.998629108954327, -3.970709468231444],\n",
       " 1.0789545769334363,\n",
       " 4660.549945793372)"
      ]
     },
     "execution_count": 77,
     "metadata": {},
     "output_type": "execute_result"
    }
   ],
   "source": [
    "model_train = LinearModel2v(0.1, 0.001)\n",
    "model_train.train(x_train, y_train)\n",
    "model_train.w, model.w0, model.loss_function(x_train, y_train)"
   ]
  },
  {
   "cell_type": "code",
   "execution_count": null,
   "metadata": {},
   "outputs": [
    {
     "data": {
      "text/plain": [
       "([3.024027945868007, -4.0288749430671755],\n",
       " 1.0789545769334363,\n",
       " 4660.549945793372)"
      ]
     },
     "execution_count": 78,
     "metadata": {},
     "output_type": "execute_result"
    }
   ],
   "source": [
    "model_train = LinearModel2v(0.5, 0.01)\n",
    "model_train.train(x_train, y_train)\n",
    "model_train.w, model.w0, model.loss_function(x_train, y_train)"
   ]
  },
  {
   "cell_type": "code",
   "execution_count": null,
   "metadata": {},
   "outputs": [
    {
     "name": "stderr",
     "output_type": "stream",
     "text": [
      "C:\\Users\\gabri\\AppData\\Local\\Temp/ipykernel_2456/1185386876.py:20: RuntimeWarning: overflow encountered in double_scalars\n",
      "  C += (B+self.w0-t[i])**2\n",
      "C:\\Users\\gabri\\AppData\\Local\\Temp/ipykernel_2456/1185386876.py:56: RuntimeWarning: invalid value encountered in double_scalars\n",
      "  if abs(l[-1]-l[-2])/l[-1] < self.diff or count > self.maxiter:\n",
      "C:\\Users\\gabri\\AppData\\Local\\Temp/ipykernel_2456/1185386876.py:19: RuntimeWarning: overflow encountered in double_scalars\n",
      "  squares +=  self.w[j]**2 #squares to kwadraty wszystkich w\n",
      "C:\\Users\\gabri\\AppData\\Local\\Temp/ipykernel_2456/1185386876.py:22: RuntimeWarning: overflow encountered in double_scalars\n",
      "  return LF + self.alpha* (squares + (self.w0**2))\n",
      "C:\\Users\\gabri\\AppData\\Local\\Temp/ipykernel_2456/1185386876.py:38: RuntimeWarning: overflow encountered in double_scalars\n",
      "  dC[j] += 2*X[i][j]*(y_pred-t[i])\n",
      "C:\\Users\\gabri\\AppData\\Local\\Temp/ipykernel_2456/1185386876.py:38: RuntimeWarning: invalid value encountered in double_scalars\n",
      "  dC[j] += 2*X[i][j]*(y_pred-t[i])\n",
      "C:\\Users\\gabri\\AppData\\Local\\Temp/ipykernel_2456/1185386876.py:39: RuntimeWarning: invalid value encountered in double_scalars\n",
      "  dC0 += 2*(y_pred-t[i])\n",
      "C:\\Users\\gabri\\AppData\\Local\\Temp/ipykernel_2456/1185386876.py:42: RuntimeWarning: invalid value encountered in double_scalars\n",
      "  self.w[i] = self.w[i] - self.eta*dC[i]/(2*N)\n"
     ]
    },
    {
     "data": {
      "text/plain": [
       "([nan, nan], 1.0789545769334363, 4660.549945793372)"
      ]
     },
     "execution_count": 81,
     "metadata": {},
     "output_type": "execute_result"
    }
   ],
   "source": [
    "model_train = LinearModel2v(1, 0.1) \n",
    "model_train.train(x_train, y_train)\n",
    "model_train.w, model.w0, model.loss_function(x_train, y_train)"
   ]
  },
  {
   "cell_type": "markdown",
   "metadata": {},
   "source": [
    "Zadanie3: Uzasadnij powyższe wartości prawdopodobieństw w oparciu o parametry modelu."
   ]
  },
  {
   "cell_type": "markdown",
   "metadata": {},
   "source": [
    "Parametry modelu-  z zadania:\n",
    "(array([[-0.39682866, -0.82497163]]), array([0.11932619]))\n",
    "\n",
    "model.predict([[3,3]]), model.predict_proba([[3,3]]) #predykcja klasy oraz odpowiednie prawdopodobienstwa\n",
    "(array([0]), array([[0.97197068, 0.02802932]]))"
   ]
  },
  {
   "cell_type": "code",
   "execution_count": 13,
   "metadata": {},
   "outputs": [],
   "source": [
    "x1 = 3\n",
    "x2 = 3 \n",
    "#Wagi: \n",
    "w1 = -0.39682866\n",
    "w2 = -0.82497163\n",
    "w0 = 0.11932619"
   ]
  },
  {
   "cell_type": "code",
   "execution_count": 21,
   "metadata": {},
   "outputs": [
    {
     "name": "stdout",
     "output_type": "stream",
     "text": [
      "Prawdopodobieństwo że należy do klasy 1: 0.21996998958230926\n",
      "Prawdopodobieństwo że należy do klasy 0: 0.7800300104176907\n"
     ]
    }
   ],
   "source": [
    "p1 = 1 / (1 +(-(w1*x1 + w2*x2 + w0)))\n",
    "p0 = 1 - p1\n",
    "print(\"Prawdopodobieństwo że należy do klasy 1:\", p1)\n",
    "print(\"Prawdopodobieństwo że należy do klasy 0:\", p0)\n",
    "\n",
    "#Nie wyszło tak jak w zadaniu :/ "
   ]
  },
  {
   "cell_type": "markdown",
   "metadata": {},
   "source": [
    "Zadanie4: Wyznacz powyższe prawdopodobieństwa ręcznie na podstawie parametrów modelu."
   ]
  },
  {
   "cell_type": "code",
   "execution_count": null,
   "metadata": {},
   "outputs": [],
   "source": []
  },
  {
   "cell_type": "markdown",
   "metadata": {},
   "source": [
    "Zadanie5: Wyjaśnij powyższy wykres. Co oznacza to rozgałęzienie?"
   ]
  },
  {
   "cell_type": "markdown",
   "metadata": {},
   "source": []
  }
 ],
 "metadata": {
  "kernelspec": {
   "display_name": "Python 3.7.10",
   "language": "python",
   "name": "python3"
  },
  "language_info": {
   "codemirror_mode": {
    "name": "ipython",
    "version": 3
   },
   "file_extension": ".py",
   "mimetype": "text/x-python",
   "name": "python",
   "nbconvert_exporter": "python",
   "pygments_lexer": "ipython3",
   "version": "3.7.12"
  },
  "orig_nbformat": 4,
  "vscode": {
   "interpreter": {
    "hash": "6cdd90c2753178782507a9573fff97446fc03ea1f1ef50cd7d6cb3aa5cd614f8"
   }
  }
 },
 "nbformat": 4,
 "nbformat_minor": 2
}
